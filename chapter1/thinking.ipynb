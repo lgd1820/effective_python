{
 "cells": [
  {
   "cell_type": "markdown",
   "metadata": {},
   "source": [
    "# 파이썬답게 생각하기"
   ]
  },
  {
   "cell_type": "markdown",
   "metadata": {},
   "source": [
    "## 1. 사용중인 파이썬의 버전을 알아두라"
   ]
  },
  {
   "cell_type": "code",
   "execution_count": 1,
   "metadata": {},
   "outputs": [
    {
     "name": "stdout",
     "output_type": "stream",
     "text": [
      "Python 3.8.12\n"
     ]
    }
   ],
   "source": [
    "!python --version"
   ]
  },
  {
   "cell_type": "code",
   "execution_count": 2,
   "metadata": {},
   "outputs": [
    {
     "name": "stdout",
     "output_type": "stream",
     "text": [
      "sys.version_info(major=3, minor=8, micro=12, releaselevel='final', serial=0)\n",
      "3.8.12 | packaged by conda-forge | (default, Oct 12 2021, 21:57:06) \n",
      "[GCC 9.4.0]\n"
     ]
    }
   ],
   "source": [
    "import sys\n",
    "print(sys.version_info)\n",
    "print(sys.version)"
   ]
  },
  {
   "cell_type": "markdown",
   "metadata": {},
   "source": [
    "## 2. PEP 8 스타일 가이드를 따르라"
   ]
  },
  {
   "cell_type": "markdown",
   "metadata": {},
   "source": [
    "### 공백\n",
    "1. 텝 대신 스페이스를 사용해 들여쓰기 하라.\n",
    "2. 문법적으로 중요한 들여쓰기에는 4칸 스페이스를 사용하라.\n",
    "3. 라인의 길이는 79개 문자 이하여야 한다.\n",
    "4. 긴 식을 다음 줄에 이어서 쓸 경우에는 일반적인 들여쓰기보다 4 스페이스를 더 들여써야 한다.\n",
    "5. 파일 안에서 각 함수와 클래스 사이에는 빈 줄을 두 줄 넣어라.\n",
    "6. 클래스 안에서 메서드와 메서드 사이에는 빈 줄을 한 줄 넣어.\n",
    "7. 딕셔너리에서 키와 콜론 사ㅣ에는 공백을 넣지 않고, 한 줄 안에 키와 값을 같이 넣는 경우에는 콜론 다음에 스페이스를 하나 넣는다.\n",
    "8. 변수 대입에서 = 전후에는 스페이스를 하나씩만 넣는다.\n",
    "9. 타입 표기를 덧붙이는 경우에는 변수 이름과 콜론 사이에 공백을 넣지 않도록 주의하고, 콜론 타입 정보 사이에는 스페이스를 하나 넣어라.\n",
    "\n",
    "### 명명 규약\n",
    "1. 함수, 변수, 애트리뷰트는 lowercase_underscore처럼 소문자와 밑줄을 사용한다.(snake case)\n",
    "2. 보호해야 하는 인스턴스 애트리뷰트는 일반적인 애트리뷰트 이름 규칙을 따르되, _leading_underscore처럼 밑줄로 시작한다.\n",
    "3. 비공개(한 클래스 안에서 쓰이고 다른 곳에서는 쓰면 안 되는 경우) 인스턴스 애트리뷰트는 일반적인 애트리뷰트 이름 규칙을 따르되, __leading_underscore처럼 밑줄 두 개로 시작한다.\n",
    "4. 클래스는 CaptailizedWord 처럼 여러 단어를 이어 붙이되, 각 단어의 첫 글자를 대문자로 만든다.(camel case)\n",
    "5. 모듈 수준의 상수는 ALL_CAPS 처럼 모든 글자를 대문자로 하고 단어와 단어의 사이를 밑줄로 연결한 형태를 사용한다.\n",
    "6. 클래스에 들어 있는 인스턴스 메서드는 호출 대상 객체를 가리키는 첫 번째의 인자의 이름으로 반드시 self를 사용해야 한다.\n",
    "7. 클래스 메서드는 클래스를 가리키는 첫 번째 인자의 이름으로 반드시 cls를 사용해야 한다.\n",
    "\n",
    "### 식과 문\n",
    "1. 긍적적인 식을 부정하지 말고(if not a is b) 부정을 내부에 넣어라(if a is not b).\n",
    "2. 빈 컨테이너나 시퀀스([] or '')를 검사할 때는 길이를 0과 비교하지 말고 암묵적으로 False 취급된다는 사실을 활용해 'if not 시퀀스' 라는 조건문을 써라.\n",
    "3. 비어 있지 않은 컨테이너나 시퀀스를 검사 할 때 길이로 비교하지 말고 True를 사용하라.\n",
    "4. 한 줄짜리 if 문이나 한 줄 짜리 for, while 루프, 한 줄짜리 except 복합문을 사용하지 말라. 명확성을 위해 각 부분을 여러 줄에 나눠 배치하라.\n",
    "5. 식을 한 줄 안에 다 쓸 수 없을 경우, 식을 괄호로 둘러싸고 줄바꿈 들여쓰기를 추가해서 읽기 쉽게 만들라.\n",
    "6. 여러 줄에 걸쳐 쓸 때는 줄이 계속된다는 표시를 하는 \\ 문자보다 괄호를 사용하라.\n",
    "\n",
    "### import\n",
    "1. import 문(from x imprt y)를 항상 파일 맨 앞에 위치하라\n",
    "2. 모듈을 임포트할 때는 절대적인 이름을 사용하고, 현 모듈의 경로를 상대적인 이름을 사용하지 말라. ex) bar 패키지로부터 foo 모듈을 임포트 한다면 from bar import foo\n",
    "3. 반드시 상대적인 경로로 임포트해야 하는 경우에는 from . import foo 처럼 명시적인 구문을 사용하라.\n",
    "4. 임포트를 적을 때는 표준 라이브러리 모듈, 서브 파티 모듈, 여러분이 만든 모듈 순서로 섹션을 나눠라. 각 섹션에서는 알파벳 순서로 모듈을 임포트하라."
   ]
  },
  {
   "cell_type": "markdown",
   "metadata": {},
   "source": [
    "## 3. bytes 와 str의 차이를 알아두라"
   ]
  },
  {
   "cell_type": "code",
   "execution_count": 3,
   "metadata": {},
   "outputs": [
    {
     "name": "stdout",
     "output_type": "stream",
     "text": [
      "[104, 101, 108, 108, 111]\n",
      "b'hello'\n"
     ]
    }
   ],
   "source": [
    "a = b'h\\x65llo'\n",
    "print(list(a))\n",
    "print(a)\n",
    "\n",
    "# str 인스턴스는 사람이 사용하는 언어 문자를 표현하는 유니코드 코드 포인트가 들어 있다."
   ]
  },
  {
   "cell_type": "code",
   "execution_count": 4,
   "metadata": {},
   "outputs": [
    {
     "name": "stdout",
     "output_type": "stream",
     "text": [
      "['a', '̀', ' ', 'p', 'r', 'o', 'p', 'o', 's']\n",
      "à propos\n"
     ]
    }
   ],
   "source": [
    "a = 'a\\u0300 propos'\n",
    "print(list(a))\n",
    "print(a)"
   ]
  },
  {
   "cell_type": "markdown",
   "metadata": {},
   "source": [
    "## 4. C 스타일 형식 문자열을 str.format과 쓰기보다는 f-문자열을 통한 인터폴레이션을 사용하라"
   ]
  },
  {
   "cell_type": "code",
   "execution_count": 5,
   "metadata": {},
   "outputs": [
    {
     "name": "stdout",
     "output_type": "stream",
     "text": [
      "이진수: 187, 십육진수: 3167\n"
     ]
    }
   ],
   "source": [
    "\"\"\"\n",
    "형식화의 문제점\n",
    "\n",
    "1. 튜플 내 데이터 값의 순서를 바꾸거나 값의 타입을 바꾸면 타입 변환이 불가능 하므로 오류가 발생할 수 있음\n",
    "\n",
    "2. 형식화를 하기 전에 값을 살짝 변경해야 한다면 식을 읽기가 매우 어려워진다.\n",
    "ex) print('#%d: %-10s = %.2f') % (i, item, count))\n",
    "\n",
    "3. 형식화 문자열에서 같은 값을 여러 번 사용하고 싶다면 튜플에서 같은 값을 여러 번 반복해야함\n",
    "ex) formatted = template % (name, name)\n",
    "template = \"%(name)은 음식을 좋아해. %(name)은 영화를 좋아해\"\n",
    "\n",
    "4. 3번을 해결하기 위해 딕셔너리를 사용해 형식화를 하지만 더 복잡해지고 가독서을 떨어뜨린다.\n",
    "ex) formatted = template % menu\n",
    "menu = {\n",
    "    'suop': 'lentil',\n",
    "    ~~~\n",
    "}\n",
    "\"\"\"\n",
    "\n",
    "a = 0b10111011\n",
    "b = 0xc5f\n",
    "print('이진수: %d, 십육진수: %d' % (a,b))"
   ]
  },
  {
   "cell_type": "code",
   "execution_count": 6,
   "metadata": {},
   "outputs": [
    {
     "name": "stdout",
     "output_type": "stream",
     "text": [
      "my_var = 1.234\n"
     ]
    }
   ],
   "source": [
    "key = 'my_var'\n",
    "value = 1.234\n",
    "\n",
    "formatted = f'{key} = {value}'\n",
    "print(formatted)"
   ]
  },
  {
   "cell_type": "markdown",
   "metadata": {},
   "source": [
    "## 5. 복잡한 식을 쓰는 대신 도우미 함수를 작성하라"
   ]
  },
  {
   "cell_type": "code",
   "execution_count": 7,
   "metadata": {},
   "outputs": [
    {
     "name": "stdout",
     "output_type": "stream",
     "text": [
      "{'red': ['5'], 'blue': ['0'], 'green': ['']}\n"
     ]
    }
   ],
   "source": [
    "from urllib.parse import parse_qs\n",
    "\n",
    "my_values = parse_qs('red=5&blue=0&green=', keep_blank_values=True)\n",
    "print(repr(my_values))"
   ]
  },
  {
   "cell_type": "code",
   "execution_count": 8,
   "metadata": {},
   "outputs": [
    {
     "name": "stdout",
     "output_type": "stream",
     "text": [
      "red:  ['5']\n",
      "blue:  ['0']\n",
      "black:  None\n"
     ]
    }
   ],
   "source": [
    "print('red: ', my_values.get('red'))\n",
    "print('blue: ', my_values.get('blue'))\n",
    "print('black: ', my_values.get('black'))"
   ]
  },
  {
   "cell_type": "code",
   "execution_count": 9,
   "metadata": {},
   "outputs": [],
   "source": [
    "def get_first_int(values, key, default=0):\n",
    "    found = values.get(key, [''])\n",
    "    if found[0]:\n",
    "        return int(found[0])\n",
    "    else:\n",
    "        default\n",
    "\n",
    "green = get_first_int(my_values, 'green')"
   ]
  },
  {
   "cell_type": "markdown",
   "metadata": {},
   "source": [
    "## 6. 인덱스를 사용하는 대신 대입을 사용해 데이터를 언패킹하라"
   ]
  },
  {
   "cell_type": "code",
   "execution_count": null,
   "metadata": {},
   "outputs": [],
   "source": []
  }
 ],
 "metadata": {
  "interpreter": {
   "hash": "3aa8a4c53c504a212ea9862f4120fe75cdcb2d1f127d7f148c039702b688ee08"
  },
  "kernelspec": {
   "display_name": "Python 3.8.12 64-bit ('study': conda)",
   "language": "python",
   "name": "python3"
  },
  "language_info": {
   "codemirror_mode": {
    "name": "ipython",
    "version": 3
   },
   "file_extension": ".py",
   "mimetype": "text/x-python",
   "name": "python",
   "nbconvert_exporter": "python",
   "pygments_lexer": "ipython3",
   "version": "3.8.12"
  },
  "orig_nbformat": 4
 },
 "nbformat": 4,
 "nbformat_minor": 2
}
